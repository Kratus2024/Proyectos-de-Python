{
 "cells": [
  {
   "cell_type": "markdown",
   "id": "78d18788",
   "metadata": {},
   "source": [
    "PROGRAMA QUE PERMITE CALCULAR LA DISTANCIA ENTRE DOS CIUDADES CON COORDENADAS GEOGRÁFICAS."
   ]
  },
  {
   "cell_type": "code",
   "execution_count": null,
   "id": "46e008e3",
   "metadata": {},
   "outputs": [],
   "source": [
    "#El objetivo de este programa es calcular la distancia entre puntos geográficos medinate coordenadas (latitud, longitud).\n",
    "# Para ello importamos la libreria geopy.\n",
    "#Solicitamos al usuario que introduzca dichas coordenadas entre los puntos para asi calcular la distancia en estecaso en kilometros.\n",
    "\n",
    "from geopy.distance import distance\n",
    "\n",
    "longitud_1 = float(input(\"Ingrese la longitud del primer punto: \"))\n",
    "latitud_1 = float(input(\"Ingrese la latitud del primer punto: \"))\n",
    "\n",
    "punto1 = (latitud_1, longitud_1)\n",
    "\n",
    "longitud_2 = float(input(\"Ingrese la longitud del segundo punto: \"))\n",
    "latitud_2 = float(input(\"Ingrese la latitud del segundo punto: \"))\n",
    "\n",
    "punto2 = (latitud_2, longitud_2)\n",
    "\n",
    "distancia = distance(punto1, punto2).kilometers\n",
    "\n",
    "print(f\"La distancia entre las coordenadas es de {distancia:2f} km\")"
   ]
  },
  {
   "cell_type": "markdown",
   "id": "e28d48e5",
   "metadata": {},
   "source": [
    "Ahora ejecutaremos un programa que pide el nombre de una ciudad o pais y este nos imprime toda la información de geolocalización. La manera mas práctica y optima de obtener información geográfica."
   ]
  },
  {
   "cell_type": "code",
   "execution_count": null,
   "id": "2d0956d3",
   "metadata": {},
   "outputs": [],
   "source": [
    "from functools import partial\n",
    "from geopy.geocoders import Nominatim\n",
    "\n",
    "def coord_country():\n",
    "    place = input(\"Ingrese el pais o ciudad que desea obtener información: \")\n",
    "    localizacion = Nominatim(user_agent= \"Coordenadas\")\n",
    "    geografic_locate = partial(localizacion.geocode, language=\"es\")\n",
    "    locate = geografic_locate(place)\n",
    "    print(f\"Las coordenadas de {place} es: {geografic_locate(place)}\")\n",
    "    print(f\"Latitud: {locate.latitude}, Longitud: {locate.longitude}\")\n",
    "\n",
    "coord_country()\n",
    "\n"
   ]
  },
  {
   "cell_type": "markdown",
   "id": "1f3256ce",
   "metadata": {},
   "source": [
    "Si pedimos unas coordenadas que este programa sea capaz de intepretar con el nombre de dicho lugar."
   ]
  },
  {
   "cell_type": "code",
   "execution_count": null,
   "id": "594631b5",
   "metadata": {},
   "outputs": [
    {
     "ename": "SyntaxError",
     "evalue": "unterminated f-string literal (detected at line 10) (1121033133.py, line 10)",
     "output_type": "error",
     "traceback": [
      "  \u001b[36mCell\u001b[39m\u001b[36m \u001b[39m\u001b[32mIn[25]\u001b[39m\u001b[32m, line 10\u001b[39m\n\u001b[31m    \u001b[39m\u001b[31mprint(f\"Las coordenadas lat:{latitud} y long:{longitud} corresponde a\u001b[39m\n          ^\n\u001b[31mSyntaxError\u001b[39m\u001b[31m:\u001b[39m unterminated f-string literal (detected at line 10)\n"
     ]
    }
   ],
   "source": [
    "from geopy.geocoders import Nominatim\n",
    "\n",
    "longitud = float(input(\"Ingrese la longitud del primer punto: \"))\n",
    "latitud = float(input(\"Ingrese la latitud del primer punto: \"))\n",
    "\n",
    "geolocalizador = Nominatim(user_agent= \"COORDENADAS_CONVERSION\")\n",
    "\n",
    "locate_local = geolocalizador.reverse((latitud, longitud), language=\"es\")\n",
    "\n",
    "print(f\"Las coordenadas lat:{latitud} y long:{longitud} corresponde a {locate_local}.\")\n",
  
 
